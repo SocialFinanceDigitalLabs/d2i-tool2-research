{
 "cells": [
  {
   "cell_type": "code",
   "execution_count": 126,
   "id": "4b02bdd6-3311-49c0-acd4-1e0cce28b540",
   "metadata": {},
   "outputs": [],
   "source": [
    "import random\n",
    "import inspect\n",
    "import ast\n",
    "import dill\n",
    "import pandas as pd"
   ]
  },
  {
   "cell_type": "code",
   "execution_count": 12,
   "id": "aa7bf60a-8e80-49ed-87ec-a247d63f32ce",
   "metadata": {},
   "outputs": [],
   "source": [
    "def my_number(min=10, max=50):\n",
    "    return f\"My number is {random.randint(min, max)}\""
   ]
  },
  {
   "cell_type": "code",
   "execution_count": 13,
   "id": "d94dbd00-dbba-4479-bded-a3a35950c1ce",
   "metadata": {},
   "outputs": [
    {
     "data": {
      "text/plain": [
       "'My number is 35'"
      ]
     },
     "execution_count": 13,
     "metadata": {},
     "output_type": "execute_result"
    }
   ],
   "source": [
    "my_number()"
   ]
  },
  {
   "cell_type": "code",
   "execution_count": 130,
   "id": "f3d49560-6daa-46b0-8bf3-a2df815296d0",
   "metadata": {},
   "outputs": [
    {
     "name": "stdout",
     "output_type": "stream",
     "text": [
      "import random\n",
      "\n"
     ]
    }
   ],
   "source": [
    "for name, mod in dill.detect.globalvars(my_number).items():\n",
    "    print(dill.source._importable(mod))"
   ]
  },
  {
   "cell_type": "code",
   "execution_count": 14,
   "id": "af826e8e-d9df-46d1-ae1e-ea70b32778f5",
   "metadata": {},
   "outputs": [
    {
     "data": {
      "text/plain": [
       "'def my_number(min=10, max=50):\\n    return f\"My number is {random.randint(min, max)}\"\\n'"
      ]
     },
     "execution_count": 14,
     "metadata": {},
     "output_type": "execute_result"
    }
   ],
   "source": [
    "source_code = inspect.getsource(my_number)\n",
    "source_code"
   ]
  },
  {
   "cell_type": "code",
   "execution_count": 65,
   "id": "2be4e556-77b4-461f-9bc4-b42ad957c588",
   "metadata": {},
   "outputs": [
    {
     "name": "stdout",
     "output_type": "stream",
     "text": [
      "80049567010000000000008c0a64696c6c2e5f64696c6c948c105f6372656174655f66756e6374696f6e9493942868008c0c5f6372656174655f636f\n",
      "64659493942843020001944b024b004b004b024b054b43431264017400a0017c007c01a1029b009d025300944e8c0d4d79206e756d62657220697320\n",
      "9486948c0672616e646f6d948c0772616e64696e749486948c036d696e948c036d61789486948c4d2f7661722f666f6c646572732f396d2f376b3931\n",
      "3667763936783964366374636e6431323874766d30303030676e2f542f6970796b65726e656c5f37313534332f3738393134333431382e7079948c09\n",
      "6d795f6e756d626572944b0143021201942929749452947d948c085f5f6e616d655f5f948c085f5f6d61696e5f5f947368104b0a4b3286944e749452\n",
      "947d947d948c0f5f5f616e6e6f746174696f6e735f5f947d947386946268148c0672616e646f6d9468008c0e5f696d706f72745f6d6f64756c659493\n",
      "9468098594529473302e\n"
     ]
    }
   ],
   "source": [
    "dill_code = dill.dumps(my_number, recurse=True)\n",
    "print(dill_code.hex(\"\\n\", -60))"
   ]
  },
  {
   "cell_type": "code",
   "execution_count": 166,
   "id": "38cc09d0-111b-4065-87d6-61ba3793cdd9",
   "metadata": {},
   "outputs": [],
   "source": [
    "import pandas\n",
    "import random\n",
    "blob = pandas\n",
    "\n",
    "argarg = 3\n",
    "dodo = argarg + 5\n",
    "\n",
    "def increment_value(value):\n",
    "    return value + random.randint(0, 50)\n",
    "\n",
    "def create_df():\n",
    "    final = increment_value(dodo)\n",
    "    return blob.DataFrame([[1,2], [2,3], [3, final]], columns=['a', 'b'])\n",
    "\n",
    "\n",
    "func = dill.copy(create_df)"
   ]
  },
  {
   "cell_type": "code",
   "execution_count": 167,
   "id": "977b81d1-1d37-4ed7-8837-f7862efe2a9a",
   "metadata": {
    "tags": []
   },
   "outputs": [],
   "source": [
    "def write_code(func):\n",
    "    for name, mod in dill.detect.globalvars(func).items():\n",
    "        print(dill.source.importable(mod, alias=name))\n",
    "\n",
    "    print(dill.source.getsource(func))"
   ]
  },
  {
   "cell_type": "code",
   "execution_count": 178,
   "id": "df69b1f4-049b-45fb-867c-744d1c37600f",
   "metadata": {},
   "outputs": [
    {
     "data": {
      "text/plain": [
       "b\"\\x80\\x04\\x95]\\x02\\x00\\x00\\x00\\x00\\x00\\x00\\x8c\\ndill._dill\\x94\\x8c\\x10_create_function\\x94\\x93\\x94(h\\x00\\x8c\\x0c_create_code\\x94\\x93\\x94(C\\x04\\x00\\x01\\x08\\x01\\x94K\\x00K\\x00K\\x00K\\x01K\\x05KCC,t\\x00t\\x01\\x83\\x01}\\x00t\\x02j\\x03d\\x01d\\x02g\\x02d\\x02d\\x03g\\x02d\\x03|\\x00g\\x02g\\x03d\\x04d\\x05g\\x02d\\x06\\x8d\\x02S\\x00\\x94(NK\\x01K\\x02K\\x03\\x8c\\x01a\\x94\\x8c\\x01b\\x94\\x8c\\x07columns\\x94\\x85\\x94t\\x94(\\x8c\\x0fincrement_value\\x94\\x8c\\x04dodo\\x94\\x8c\\x04blob\\x94\\x8c\\tDataFrame\\x94t\\x94\\x8c\\x05final\\x94\\x85\\x94\\x8cL/var/folders/9m/7k916gv96x9d6ctcnd128tvm0000gn/T/ipykernel_71543/65352718.py\\x94\\x8c\\tcreate_df\\x94K\\x0bC\\x04\\x08\\x01$\\x01\\x94))t\\x94R\\x94}\\x94\\x8c\\x08__name__\\x94\\x8c\\x08__main__\\x94sh\\x14NNt\\x94R\\x94}\\x94}\\x94\\x8c\\x0f__annotations__\\x94}\\x94s\\x86\\x94bh\\x18(\\x8c\\x06random\\x94h\\x00\\x8c\\x0e_import_module\\x94\\x93\\x94\\x8c\\x06random\\x94\\x85\\x94R\\x94\\x8c\\x04blob\\x94h$\\x8c\\x06pandas\\x94\\x85\\x94R\\x94\\x8c\\x0fincrement_value\\x94h\\x02(h\\x04(C\\x02\\x00\\x01\\x94K\\x01K\\x00K\\x00K\\x01K\\x05KCC\\x10|\\x00t\\x00\\xa0\\x01d\\x01d\\x02\\xa1\\x02\\x17\\x00S\\x00\\x94NK\\x00K2\\x87\\x94h%\\x8c\\x07randint\\x94\\x86\\x94\\x8c\\x05value\\x94\\x85\\x94h\\x13h\\x0cK\\x08C\\x02\\x10\\x01\\x94))t\\x94R\\x94}\\x94h\\x19h\\x1ash\\x0cNNt\\x94R\\x94}\\x94}\\x94h\\x1f}\\x94s\\x86\\x94bh7\\x8c\\x06random\\x94h's0\\x8c\\x04dodo\\x94K\\x08u0.\""
      ]
     },
     "execution_count": 178,
     "metadata": {},
     "output_type": "execute_result"
    }
   ],
   "source": [
    "dill.dumps(create_df, recurse=True)"
   ]
  },
  {
   "cell_type": "code",
   "execution_count": 134,
   "id": "12c9eecf-e1d8-451e-aaac-ee42d52bc5cb",
   "metadata": {},
   "outputs": [
    {
     "name": "stdout",
     "output_type": "stream",
     "text": [
      "80049576010000000000008c0a64696c6c2e5f64696c6c948c105f6372656174655f66756e6374696f6e9493942868008c0c5f6372656174655f636f\n",
      "64659493942843020001944b004b004b004b004b054b43432474006a01640164026702640264036702640364046702670364056406670264078d0253\n",
      "0094284e4b014b024b034b048c0161948c0162948c07636f6c756d6e7394859474948c027064948c09446174614672616d65948694298c4e2f766172\n",
      "2f666f6c646572732f396d2f376b39313667763936783964366374636e6431323874766d30303030676e2f542f6970796b65726e656c5f3731353433\n",
      "2f323835323135383431352e7079948c096372656174655f6466944b0143022401942929749452947d948c085f5f6e616d655f5f948c085f5f6d6169\n",
      "6e5f5f947368104e4e749452947d947d948c0f5f5f616e6e6f746174696f6e735f5f947d947386946268148c0270649468008c0e5f696d706f72745f\n",
      "6d6f64756c659493948c0670616e646173948594529473302e\n"
     ]
    }
   ],
   "source": [
    "dill_code = dill.dumps(create_df, recurse=True)\n",
    "print(dill_code.hex(\"\\n\", -60))"
   ]
  },
  {
   "cell_type": "code",
   "execution_count": 141,
   "id": "580a8fd8-d67e-430d-9bb3-36265bb57926",
   "metadata": {},
   "outputs": [
    {
     "data": {
      "text/plain": [
       "\"def create_df():\\n    return pd.DataFrame([[1,2], [2,3], [3,4]], columns=['a', 'b'])\\n\""
      ]
     },
     "execution_count": 141,
     "metadata": {},
     "output_type": "execute_result"
    }
   ],
   "source": [
    "dill.source.getsource(create_df)"
   ]
  },
  {
   "cell_type": "code",
   "execution_count": 120,
   "id": "f1b49b0a-d581-4c8e-8aa1-cf52b5eba3d6",
   "metadata": {},
   "outputs": [
    {
     "data": {
      "text/plain": [
       "4627360080"
      ]
     },
     "execution_count": 120,
     "metadata": {},
     "output_type": "execute_result"
    }
   ],
   "source": [
    "dill.pointers.reference(create_df)"
   ]
  },
  {
   "cell_type": "code",
   "execution_count": 165,
   "id": "e0b9ce1e-fa49-418d-9244-d1b661417740",
   "metadata": {},
   "outputs": [
    {
     "data": {
      "text/html": [
       "<div>\n",
       "<style scoped>\n",
       "    .dataframe tbody tr th:only-of-type {\n",
       "        vertical-align: middle;\n",
       "    }\n",
       "\n",
       "    .dataframe tbody tr th {\n",
       "        vertical-align: top;\n",
       "    }\n",
       "\n",
       "    .dataframe thead th {\n",
       "        text-align: right;\n",
       "    }\n",
       "</style>\n",
       "<table border=\"1\" class=\"dataframe\">\n",
       "  <thead>\n",
       "    <tr style=\"text-align: right;\">\n",
       "      <th></th>\n",
       "      <th>a</th>\n",
       "      <th>b</th>\n",
       "    </tr>\n",
       "  </thead>\n",
       "  <tbody>\n",
       "    <tr>\n",
       "      <th>0</th>\n",
       "      <td>1</td>\n",
       "      <td>2</td>\n",
       "    </tr>\n",
       "    <tr>\n",
       "      <th>1</th>\n",
       "      <td>2</td>\n",
       "      <td>3</td>\n",
       "    </tr>\n",
       "    <tr>\n",
       "      <th>2</th>\n",
       "      <td>3</td>\n",
       "      <td>39</td>\n",
       "    </tr>\n",
       "  </tbody>\n",
       "</table>\n",
       "</div>"
      ],
      "text/plain": [
       "   a   b\n",
       "0  1   2\n",
       "1  2   3\n",
       "2  3  39"
      ]
     },
     "execution_count": 165,
     "metadata": {},
     "output_type": "execute_result"
    }
   ],
   "source": [
    "create_df()"
   ]
  },
  {
   "cell_type": "code",
   "execution_count": 181,
   "id": "e13dcf08-6130-4897-9e8d-1225b2be1b31",
   "metadata": {},
   "outputs": [
    {
     "data": {
      "text/html": [
       "<html>\n",
       "<body>\n",
       "  <h1>Test</h1>\n",
       "  <div>Hello</div>\n",
       "</body>\n",
       "</html>\n"
      ],
      "text/plain": [
       "<IPython.core.display.HTML object>"
      ]
     },
     "metadata": {},
     "output_type": "display_data"
    }
   ],
   "source": [
    "%%html\n",
    "<html>\n",
    "<body>\n",
    "  <h1>Test</h1>\n",
    "  <div>Hello</div>\n",
    "</body>\n",
    "</html>"
   ]
  },
  {
   "cell_type": "code",
   "execution_count": null,
   "id": "6c966f95-3c81-4f8b-8993-3e1ff8933c43",
   "metadata": {},
   "outputs": [],
   "source": []
  }
 ],
 "metadata": {
  "kernelspec": {
   "display_name": "Python 3 (ipykernel)",
   "language": "python",
   "name": "python3"
  },
  "language_info": {
   "codemirror_mode": {
    "name": "ipython",
    "version": 3
   },
   "file_extension": ".py",
   "mimetype": "text/x-python",
   "name": "python",
   "nbconvert_exporter": "python",
   "pygments_lexer": "ipython3",
   "version": "3.10.9"
  }
 },
 "nbformat": 4,
 "nbformat_minor": 5
}
