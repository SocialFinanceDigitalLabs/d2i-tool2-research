{
 "cells": [
  {
   "cell_type": "markdown",
   "id": "2accb013-62e2-40db-ab60-5a73ebba1ffa",
   "metadata": {},
   "source": [
    "# Code export using Dill\n",
    "\n",
    "[Dill](https://github.com/uqfoundation/dill) is a good library that offers broad support for serializing code and therefore also a number of utilities for inspecting code. \n",
    "\n",
    "The default serialization format is binary, and so perhaps not ideal for this project as we would want to capture the source somewhere for both security and maintainability purposes. \n",
    "\n",
    "However, we can relatively easily write our own 'code dumper' that will print objects in a more accessible way."
   ]
  },
  {
   "cell_type": "code",
   "execution_count": 1,
   "id": "d8f0b3f6-cffc-4e1e-9a7a-44bf207801d2",
   "metadata": {},
   "outputs": [],
   "source": [
    "import random\n",
    "import inspect\n",
    "import dill\n",
    "import pandas as pd"
   ]
  },
  {
   "cell_type": "code",
   "execution_count": 2,
   "id": "e0cad404-da04-4474-8d5a-e8000eac4959",
   "metadata": {},
   "outputs": [],
   "source": [
    "def write_code(func):\n",
    "    \"\"\"\n",
    "    This function will attempt to access the source and globals of an object and write the source for these.\n",
    "    \"\"\"\n",
    "    for name, mod in dill.detect.globalvars(func).items():\n",
    "        print(dill.source.importable(mod, alias=name))\n",
    "    print(dill.source.getsource(func))"
   ]
  },
  {
   "cell_type": "code",
   "execution_count": 3,
   "id": "4e3dbf1d-db21-4fe3-99d1-9c9da7655097",
   "metadata": {},
   "outputs": [],
   "source": [
    "# Our test function\n",
    "def my_number(min=10, max=50):\n",
    "    return f\"My number is {random.randint(min, max)}\"\n"
   ]
  },
  {
   "cell_type": "code",
   "execution_count": 4,
   "id": "e1a4ac45-8be0-4463-8fb0-c51d4d1058ba",
   "metadata": {},
   "outputs": [
    {
     "name": "stdout",
     "output_type": "stream",
     "text": [
      "import random\n",
      "\n",
      "def my_number(min=10, max=50):\n",
      "    return f\"My number is {random.randint(min, max)}\"\n",
      "\n"
     ]
    }
   ],
   "source": [
    "write_code(my_number)"
   ]
  },
  {
   "cell_type": "markdown",
   "id": "735d3147-99bc-4508-a0fd-27f5069b7896",
   "metadata": {
    "tags": []
   },
   "source": [
    "# Importing Dill on Jupyter-lite\n",
    "\n",
    "There is a slight issue importing Dill on Jupyter-lite. Dill attempts to detect object types by opening `os.devnull` in different modes, but this does not work for `r+` (and possibly other modes):\n",
    "\n",
    "``` shell\n",
    "File /lib/python3.10/site-packages/dill/_dill.py:145\n",
    "    143 FileType = get_file_type('rb', buffering=0)\n",
    "    144 TextWrapperType = get_file_type('r', buffering=-1)\n",
    "--> 145 BufferedRandomType = get_file_type('r+b', buffering=-1)\n",
    "    146 BufferedReaderType = get_file_type('rb', buffering=-1)\n",
    "    147 BufferedWriterType = get_file_type('wb', buffering=-1)\n",
    "\n",
    "File /lib/python3.10/site-packages/dill/_dill.py:138, in get_file_type(*args, **kwargs)\n",
    "    136 def get_file_type(*args, **kwargs):\n",
    "    137     open = kwargs.pop(\"open\", __builtin__.open)\n",
    "--> 138     f = open(os.devnull, *args, **kwargs)\n",
    "    139     t = type(f)\n",
    "    140     f.close()\n",
    "    \n",
    "UnsupportedOperation: File or stream is not seekable.\n",
    "\n",
    "```\n",
    "\n",
    "If we decide to use dill for this project, then we should probably submit a proper PR to them that will allow us to work around this. In the meantime I have come up with a rather horrible monkey-patch:\n"
   ]
  },
  {
   "cell_type": "code",
   "execution_count": 5,
   "id": "1584abc8-f621-49d3-8d49-43d99958d69f",
   "metadata": {},
   "outputs": [],
   "source": [
    "from contextlib import contextmanager\n",
    "\n",
    "@contextmanager\n",
    "def custom_devnull():\n",
    "    import builtins\n",
    "    import io\n",
    "    import tempfile\n",
    "    import _pyio\n",
    "\n",
    "    from pathlib import Path\n",
    "\n",
    "    with tempfile.TemporaryDirectory() as dir:\n",
    "        testfile = f\"{dir}/notdevnull\"\n",
    "        Path(testfile).touch()\n",
    "        old_open = _pyio.open\n",
    "        \n",
    "        def open_tempfile(_, *args, **kwargs):\n",
    "            return old_open(testfile, *args, **kwargs)\n",
    "        \n",
    "        def new_open(*args, **kwargs):\n",
    "            try:\n",
    "                return old_open(*args, **kwargs)\n",
    "            except io.UnsupportedOperation:\n",
    "                return open_tempfile(*args, **kwargs)\n",
    "        \n",
    "        builtins.open = _pyio.open = new_open\n",
    "        \n",
    "        yield\n",
    "        \n",
    "        builtins.open = _pyio.open = old_open\n"
   ]
  },
  {
   "cell_type": "code",
   "execution_count": 6,
   "id": "3f0d787a-d26e-4893-b979-30a35746f42a",
   "metadata": {},
   "outputs": [],
   "source": [
    "with custom_devnull():\n",
    "    import dill"
   ]
  },
  {
   "cell_type": "code",
   "execution_count": 7,
   "id": "e297280e-0b2b-4b5e-981f-82dedd93b5bc",
   "metadata": {},
   "outputs": [
    {
     "data": {
      "text/plain": [
       "_io.BufferedRandom"
      ]
     },
     "execution_count": 7,
     "metadata": {},
     "output_type": "execute_result"
    }
   ],
   "source": [
    "dill._dill.BufferedRandomType"
   ]
  }
 ],
 "metadata": {
  "kernelspec": {
   "display_name": "Python 3 (ipykernel)",
   "language": "python",
   "name": "python3"
  },
  "language_info": {
   "codemirror_mode": {
    "name": "ipython",
    "version": 3
   },
   "file_extension": ".py",
   "mimetype": "text/x-python",
   "name": "python",
   "nbconvert_exporter": "python",
   "pygments_lexer": "ipython3",
   "version": "3.10.9"
  }
 },
 "nbformat": 4,
 "nbformat_minor": 5
}
