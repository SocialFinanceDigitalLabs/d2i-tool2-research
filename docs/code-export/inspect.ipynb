{
 "cells": [
  {
   "cell_type": "markdown",
   "id": "a861dcf6-bb2c-4846-a3ee-35c52f844bb5",
   "metadata": {},
   "source": [
    "# Code Export using Inspect\n",
    "\n",
    "Using the Python built-in `inspect` module, we can access the source of a Python object as text. "
   ]
  },
  {
   "cell_type": "code",
   "execution_count": 1,
   "id": "bd32f657-b934-4159-886b-5a512700dd24",
   "metadata": {},
   "outputs": [],
   "source": [
    "import inspect\n",
    "import random"
   ]
  },
  {
   "cell_type": "code",
   "execution_count": 2,
   "id": "d1fe5d2c-a32c-4578-83fd-26888dff5d50",
   "metadata": {},
   "outputs": [],
   "source": [
    "def my_number(min=10, max=50):\n",
    "    return f\"My number is {random.randint(min, max)}\""
   ]
  },
  {
   "cell_type": "code",
   "execution_count": 3,
   "id": "05f126b1-8333-4463-836b-d18c1a4e2eee",
   "metadata": {},
   "outputs": [
    {
     "name": "stdout",
     "output_type": "stream",
     "text": [
      "def my_number(min=10, max=50):\n",
      "    return f\"My number is {random.randint(min, max)}\"\n",
      "\n"
     ]
    }
   ],
   "source": [
    "source = inspect.getsource(my_number)\n",
    "\n",
    "# Using print instead of jupyter `display` to preserve newlines\n",
    "print(source)  "
   ]
  }
 ],
 "metadata": {
  "kernelspec": {
   "display_name": "Python 3 (ipykernel)",
   "language": "python",
   "name": "python3"
  },
  "language_info": {
   "codemirror_mode": {
    "name": "ipython",
    "version": 3
   },
   "file_extension": ".py",
   "mimetype": "text/x-python",
   "name": "python",
   "nbconvert_exporter": "python",
   "pygments_lexer": "ipython3",
   "version": "3.10.9"
  }
 },
 "nbformat": 4,
 "nbformat_minor": 5
}
