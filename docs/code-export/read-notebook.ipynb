{
 "cells": [
  {
   "cell_type": "markdown",
   "id": "71d2a23a-fe2a-4cb2-8a7d-0969ed982965",
   "metadata": {},
   "source": [
    "# Getting code from Notebooks\n",
    "\n",
    "It is possible to read and interpret code stored in jupyter notebooks saved to disk. "
   ]
  },
  {
   "cell_type": "code",
   "execution_count": 1,
   "id": "d6cd8689-ae53-46d5-b598-b9054a30c977",
   "metadata": {},
   "outputs": [],
   "source": [
    "import nbformat"
   ]
  },
  {
   "cell_type": "code",
   "execution_count": 2,
   "id": "48d5c815-1a97-4cda-92e6-cf333c41254f",
   "metadata": {},
   "outputs": [
    {
     "data": {
      "text/plain": [
       "dict_keys(['cells', 'metadata', 'nbformat', 'nbformat_minor'])"
      ]
     },
     "execution_count": 2,
     "metadata": {},
     "output_type": "execute_result"
    }
   ],
   "source": [
    "with open(\"inspect.ipynb\", \"rb\") as FILE:\n",
    "    notebook = nbformat.read(FILE, as_version=4)\n",
    "\n",
    "notebook.keys()"
   ]
  },
  {
   "cell_type": "code",
   "execution_count": 3,
   "id": "98c6e139-55f4-46a7-84ed-164db1b5caa8",
   "metadata": {},
   "outputs": [
    {
     "name": "stdout",
     "output_type": "stream",
     "text": [
      "import inspect\n",
      "import random\n",
      "\n",
      "def my_number(min=10, max=50):\n",
      "    return f\"My number is {random.randint(min, max)}\"\n",
      "\n",
      "source = inspect.getsource(my_number)\n",
      "\n",
      "# Using print instead of jupyter `display` to preserve newlines\n",
      "print(source)  \n"
     ]
    }
   ],
   "source": [
    "code = [c['source'] for c in notebook['cells'] if c['cell_type'] == \"code\"]\n",
    "code = \"\\n\\n\".join(code)\n",
    "print(code)"
   ]
  },
  {
   "cell_type": "markdown",
   "id": "be7def4e-c4c6-45df-8188-df91c958592c",
   "metadata": {},
   "source": [
    "## Running the code\n",
    "\n",
    "We can also run the first few codeblocks."
   ]
  },
  {
   "cell_type": "code",
   "execution_count": 4,
   "id": "968d48ba-0458-43ed-adeb-ba7573092776",
   "metadata": {},
   "outputs": [
    {
     "name": "stdout",
     "output_type": "stream",
     "text": [
      "import inspect\n",
      "import random\n",
      "\n",
      "def my_number(min=10, max=50):\n",
      "    return f\"My number is {random.randint(min, max)}\"\n"
     ]
    }
   ],
   "source": [
    "code = [c['source'] for c in notebook['cells'][:3] if c['cell_type'] == \"code\"]\n",
    "code = \"\\n\\n\".join(code)\n",
    "print(code)"
   ]
  },
  {
   "cell_type": "code",
   "execution_count": 5,
   "id": "3ed5d218-5c13-4779-94ec-756f75425da1",
   "metadata": {},
   "outputs": [
    {
     "data": {
      "text/plain": [
       "'My number is 46'"
      ]
     },
     "execution_count": 5,
     "metadata": {},
     "output_type": "execute_result"
    }
   ],
   "source": [
    "exec(code)\n",
    "my_number()"
   ]
  },
  {
   "cell_type": "markdown",
   "id": "899f2b7f-315c-4761-be96-8baa05fc647d",
   "metadata": {},
   "source": [
    "In this case we cannot access the source though:"
   ]
  },
  {
   "cell_type": "code",
   "execution_count": 6,
   "id": "c9ef0f5e-afd2-4fc0-8005-fc4649a54278",
   "metadata": {
    "tags": [
     "raises-exception"
    ]
   },
   "outputs": [
    {
     "ename": "OSError",
     "evalue": "could not get source code",
     "output_type": "error",
     "traceback": [
      "\u001b[0;31m---------------------------------------------------------------------------\u001b[0m",
      "\u001b[0;31mOSError\u001b[0m                                   Traceback (most recent call last)",
      "Cell \u001b[0;32mIn[6], line 1\u001b[0m\n\u001b[0;32m----> 1\u001b[0m \u001b[43minspect\u001b[49m\u001b[38;5;241;43m.\u001b[39;49m\u001b[43mgetsource\u001b[49m\u001b[43m(\u001b[49m\u001b[43mmy_number\u001b[49m\u001b[43m)\u001b[49m\n",
      "File \u001b[0;32m/usr/local/Cellar/python@3.10/3.10.9/Frameworks/Python.framework/Versions/3.10/lib/python3.10/inspect.py:1147\u001b[0m, in \u001b[0;36mgetsource\u001b[0;34m(object)\u001b[0m\n\u001b[1;32m   1141\u001b[0m \u001b[38;5;28;01mdef\u001b[39;00m \u001b[38;5;21mgetsource\u001b[39m(\u001b[38;5;28mobject\u001b[39m):\n\u001b[1;32m   1142\u001b[0m \u001b[38;5;250m    \u001b[39m\u001b[38;5;124;03m\"\"\"Return the text of the source code for an object.\u001b[39;00m\n\u001b[1;32m   1143\u001b[0m \n\u001b[1;32m   1144\u001b[0m \u001b[38;5;124;03m    The argument may be a module, class, method, function, traceback, frame,\u001b[39;00m\n\u001b[1;32m   1145\u001b[0m \u001b[38;5;124;03m    or code object.  The source code is returned as a single string.  An\u001b[39;00m\n\u001b[1;32m   1146\u001b[0m \u001b[38;5;124;03m    OSError is raised if the source code cannot be retrieved.\"\"\"\u001b[39;00m\n\u001b[0;32m-> 1147\u001b[0m     lines, lnum \u001b[38;5;241m=\u001b[39m \u001b[43mgetsourcelines\u001b[49m\u001b[43m(\u001b[49m\u001b[38;5;28;43mobject\u001b[39;49m\u001b[43m)\u001b[49m\n\u001b[1;32m   1148\u001b[0m     \u001b[38;5;28;01mreturn\u001b[39;00m \u001b[38;5;124m'\u001b[39m\u001b[38;5;124m'\u001b[39m\u001b[38;5;241m.\u001b[39mjoin(lines)\n",
      "File \u001b[0;32m/usr/local/Cellar/python@3.10/3.10.9/Frameworks/Python.framework/Versions/3.10/lib/python3.10/inspect.py:1129\u001b[0m, in \u001b[0;36mgetsourcelines\u001b[0;34m(object)\u001b[0m\n\u001b[1;32m   1121\u001b[0m \u001b[38;5;250m\u001b[39m\u001b[38;5;124;03m\"\"\"Return a list of source lines and starting line number for an object.\u001b[39;00m\n\u001b[1;32m   1122\u001b[0m \n\u001b[1;32m   1123\u001b[0m \u001b[38;5;124;03mThe argument may be a module, class, method, function, traceback, frame,\u001b[39;00m\n\u001b[0;32m   (...)\u001b[0m\n\u001b[1;32m   1126\u001b[0m \u001b[38;5;124;03moriginal source file the first line of code was found.  An OSError is\u001b[39;00m\n\u001b[1;32m   1127\u001b[0m \u001b[38;5;124;03mraised if the source code cannot be retrieved.\"\"\"\u001b[39;00m\n\u001b[1;32m   1128\u001b[0m \u001b[38;5;28mobject\u001b[39m \u001b[38;5;241m=\u001b[39m unwrap(\u001b[38;5;28mobject\u001b[39m)\n\u001b[0;32m-> 1129\u001b[0m lines, lnum \u001b[38;5;241m=\u001b[39m \u001b[43mfindsource\u001b[49m\u001b[43m(\u001b[49m\u001b[38;5;28;43mobject\u001b[39;49m\u001b[43m)\u001b[49m\n\u001b[1;32m   1131\u001b[0m \u001b[38;5;28;01mif\u001b[39;00m istraceback(\u001b[38;5;28mobject\u001b[39m):\n\u001b[1;32m   1132\u001b[0m     \u001b[38;5;28mobject\u001b[39m \u001b[38;5;241m=\u001b[39m \u001b[38;5;28mobject\u001b[39m\u001b[38;5;241m.\u001b[39mtb_frame\n",
      "File \u001b[0;32m/usr/local/Cellar/python@3.10/3.10.9/Frameworks/Python.framework/Versions/3.10/lib/python3.10/inspect.py:958\u001b[0m, in \u001b[0;36mfindsource\u001b[0;34m(object)\u001b[0m\n\u001b[1;32m    956\u001b[0m     lines \u001b[38;5;241m=\u001b[39m linecache\u001b[38;5;241m.\u001b[39mgetlines(file)\n\u001b[1;32m    957\u001b[0m \u001b[38;5;28;01mif\u001b[39;00m \u001b[38;5;129;01mnot\u001b[39;00m lines:\n\u001b[0;32m--> 958\u001b[0m     \u001b[38;5;28;01mraise\u001b[39;00m \u001b[38;5;167;01mOSError\u001b[39;00m(\u001b[38;5;124m'\u001b[39m\u001b[38;5;124mcould not get source code\u001b[39m\u001b[38;5;124m'\u001b[39m)\n\u001b[1;32m    960\u001b[0m \u001b[38;5;28;01mif\u001b[39;00m ismodule(\u001b[38;5;28mobject\u001b[39m):\n\u001b[1;32m    961\u001b[0m     \u001b[38;5;28;01mreturn\u001b[39;00m lines, \u001b[38;5;241m0\u001b[39m\n",
      "\u001b[0;31mOSError\u001b[0m: could not get source code"
     ]
    }
   ],
   "source": [
    "inspect.getsource(my_number)"
   ]
  },
  {
   "cell_type": "markdown",
   "id": "a6385e2e-ca9e-4971-8170-b3d02e4d3416",
   "metadata": {},
   "source": [
    "## Current notebook\n",
    "\n",
    "It is also possible to get the current notebook 'context' from which it is possible to get inputs and outputs of executed cells, but not of the cell contents as these are in the front-end layer. The only way to access these would be through the Javascript API, but this would depend on whether you're using Jupyter or Jupyter-lab. "
   ]
  },
  {
   "cell_type": "code",
   "execution_count": 7,
   "id": "9cb2fe53-6aa8-422b-9401-d0bf6ae30876",
   "metadata": {},
   "outputs": [
    {
     "data": {
      "text/plain": [
       "<ipykernel.zmqshell.ZMQInteractiveShell at 0x108de5d80>"
      ]
     },
     "execution_count": 7,
     "metadata": {},
     "output_type": "execute_result"
    }
   ],
   "source": [
    "ip = get_ipython()\n",
    "ip"
   ]
  },
  {
   "cell_type": "code",
   "execution_count": 8,
   "id": "8ea7fff6-f90a-4d01-9546-3d5c2684ef29",
   "metadata": {},
   "outputs": [
    {
     "name": "stdout",
     "output_type": "stream",
     "text": [
      "import nbformat\n",
      "with open(\"inspect.ipynb\", \"rb\") as FILE:\n",
      "    notebook = nbformat.read(FILE, as_version=4)\n",
      "\n",
      "notebook.keys()\n",
      "code = [c['source'] for c in notebook['cells'] if c['cell_type'] == \"code\"]\n",
      "code = \"\\n\\n\".join(code)\n",
      "print(code)\n",
      "code = [c['source'] for c in notebook['cells'][:3] if c['cell_type'] == \"code\"]\n",
      "code = \"\\n\\n\".join(code)\n",
      "print(code)\n",
      "exec(code)\n",
      "my_number()\n",
      "inspect.getsource(my_number)\n",
      "ip = get_ipython()\n",
      "ip\n"
     ]
    }
   ],
   "source": [
    "print(ip.find_user_code(\"\"))"
   ]
  },
  {
   "cell_type": "code",
   "execution_count": 9,
   "id": "f6b9e63e-3f99-499b-a866-13850b6b29e0",
   "metadata": {},
   "outputs": [
    {
     "data": {
      "text/plain": [
       "dict_keys(['cells', 'metadata', 'nbformat', 'nbformat_minor'])"
      ]
     },
     "execution_count": 9,
     "metadata": {},
     "output_type": "execute_result"
    }
   ],
   "source": [
    "_2"
   ]
  },
  {
   "cell_type": "code",
   "execution_count": 10,
   "id": "2c74c594-9d62-4da0-9afb-33ec0c91c6ee",
   "metadata": {},
   "outputs": [
    {
     "data": {
      "text/plain": [
       "['',\n",
       " 'import nbformat',\n",
       " 'with open(\"inspect.ipynb\", \"rb\") as FILE:\\n    notebook = nbformat.read(FILE, as_version=4)\\n\\nnotebook.keys()',\n",
       " 'code = [c[\\'source\\'] for c in notebook[\\'cells\\'] if c[\\'cell_type\\'] == \"code\"]\\ncode = \"\\\\n\\\\n\".join(code)\\nprint(code)',\n",
       " 'code = [c[\\'source\\'] for c in notebook[\\'cells\\'][:3] if c[\\'cell_type\\'] == \"code\"]\\ncode = \"\\\\n\\\\n\".join(code)\\nprint(code)',\n",
       " 'exec(code)\\nmy_number()',\n",
       " 'inspect.getsource(my_number)',\n",
       " 'ip = get_ipython()\\nip',\n",
       " 'print(ip.find_user_code(\"\"))',\n",
       " '_2',\n",
       " '_ih']"
      ]
     },
     "execution_count": 10,
     "metadata": {},
     "output_type": "execute_result"
    }
   ],
   "source": [
    "_ih"
   ]
  },
  {
   "cell_type": "code",
   "execution_count": 11,
   "id": "190d2cb9-3e38-4c71-91ef-52874317f49a",
   "metadata": {},
   "outputs": [
    {
     "data": {
      "text/plain": [
       "{2: dict_keys(['cells', 'metadata', 'nbformat', 'nbformat_minor']),\n",
       " 5: 'My number is 46',\n",
       " 7: <ipykernel.zmqshell.ZMQInteractiveShell at 0x108de5d80>,\n",
       " 9: dict_keys(['cells', 'metadata', 'nbformat', 'nbformat_minor']),\n",
       " 10: ['',\n",
       "  'import nbformat',\n",
       "  'with open(\"inspect.ipynb\", \"rb\") as FILE:\\n    notebook = nbformat.read(FILE, as_version=4)\\n\\nnotebook.keys()',\n",
       "  'code = [c[\\'source\\'] for c in notebook[\\'cells\\'] if c[\\'cell_type\\'] == \"code\"]\\ncode = \"\\\\n\\\\n\".join(code)\\nprint(code)',\n",
       "  'code = [c[\\'source\\'] for c in notebook[\\'cells\\'][:3] if c[\\'cell_type\\'] == \"code\"]\\ncode = \"\\\\n\\\\n\".join(code)\\nprint(code)',\n",
       "  'exec(code)\\nmy_number()',\n",
       "  'inspect.getsource(my_number)',\n",
       "  'ip = get_ipython()\\nip',\n",
       "  'print(ip.find_user_code(\"\"))',\n",
       "  '_2',\n",
       "  '_ih',\n",
       "  '_oh']}"
      ]
     },
     "execution_count": 11,
     "metadata": {},
     "output_type": "execute_result"
    }
   ],
   "source": [
    "_oh"
   ]
  },
  {
   "cell_type": "markdown",
   "id": "652f3e1e-63a2-40a9-a184-019a199cca94",
   "metadata": {},
   "source": [
    "It's quite interesting to note with that last example that it doesn't actually hold the text representation of the output, but rather the outputted object... which by now also includes the command run in this very cell.\n",
    "\n",
    "Pretty useless... but interesting."
   ]
  },
  {
   "cell_type": "code",
   "execution_count": 12,
   "id": "9132a115-cb58-423e-ad47-6a3047a54002",
   "metadata": {},
   "outputs": [
    {
     "data": {
      "application/javascript": [
       "alert(`Are you running Jupyter? ${'Jupyter' in window}`)"
      ],
      "text/plain": [
       "<IPython.core.display.Javascript object>"
      ]
     },
     "execution_count": 12,
     "metadata": {},
     "output_type": "execute_result"
    }
   ],
   "source": [
    "from IPython.display import Javascript\n",
    "Javascript(\"alert(`Are you running Jupyter? ${'Jupyter' in window}`)\")"
   ]
  }
 ],
 "metadata": {
  "kernelspec": {
   "display_name": "Python 3 (ipykernel)",
   "language": "python",
   "name": "python3"
  },
  "language_info": {
   "codemirror_mode": {
    "name": "ipython",
    "version": 3
   },
   "file_extension": ".py",
   "mimetype": "text/x-python",
   "name": "python",
   "nbconvert_exporter": "python",
   "pygments_lexer": "ipython3",
   "version": "3.10.9"
  }
 },
 "nbformat": 4,
 "nbformat_minor": 5
}
